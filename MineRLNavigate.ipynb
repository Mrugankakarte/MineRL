{
 "cells": [
  {
   "cell_type": "code",
   "execution_count": 1,
   "metadata": {},
   "outputs": [
    {
     "name": "stderr",
     "output_type": "stream",
     "text": [
      "Using TensorFlow backend.\n"
     ]
    }
   ],
   "source": [
    "from MinerlNavigate_utils import *\n",
    "from MinerlNavigate_models import Actor, Critic\n",
    "import keras.backend as K\n",
    "import tensorflow as tf\n",
    "import gym \n",
    "import minerl\n",
    "import matplotlib.pyplot as plt\n",
    "from time import time"
   ]
  },
  {
   "cell_type": "code",
   "execution_count": 2,
   "metadata": {},
   "outputs": [],
   "source": [
    "buffer_size = 100000\n",
    "batch_size = 128\n",
    "gamma = 0.99\n",
    "tau = 0.001\n",
    "lr_actor = 0.0001\n",
    "lr_critic = 0.001\n",
    "    \n",
    "action_size = 9\n",
    "state_size = (64, 64, 3)\n",
    "    \n",
    "rate = 0.2\n",
    "epsilon = 0.01\n",
    "render = True"
   ]
  },
  {
   "cell_type": "code",
   "execution_count": 3,
   "metadata": {},
   "outputs": [],
   "source": [
    "def train_from_memory(mission, buff, actor, critic, batch_size = 128, sequence = False):\n",
    "    \n",
    "    gamma = 0.99\n",
    "    \n",
    "    batch = buff.getBatch(batch_size, sequence)\n",
    "    #batch_size -= 1\n",
    "    states = np.asarray([e[0] for e in batch])\n",
    "    states_pov = np.stack([s['pov'][0] for s in states])\n",
    "    states_cA = np.stack([s['compassAngle'][0] for s in states])\n",
    "    actions = np.asarray([e[1] for e in batch])\n",
    "    #actions = np.stack([a[0] for a in actions])\n",
    "    \n",
    "    rewards = np.asarray([e[2] for e in batch])\n",
    "\n",
    "    next_states = np.asarray([e[3] for e in batch])\n",
    "    next_states_pov = np.stack([ns['pov'][0] for ns in next_states])\n",
    "    next_states_cA = np.stack([ns['compassAngle'][0] for ns in next_states])\n",
    "\n",
    "    dones = np.asarray([e[4] for e in batch])\n",
    "    \n",
    "    target_actions = actor.target_predict([next_states_pov, next_states_cA])\n",
    "    target_q_values = critic.target_predict([next_states_pov, next_states_cA, target_actions])\n",
    "     \n",
    "    critic_target = np.asarray(target_q_values)\n",
    "    for i in range(target_q_values.shape[0]):\n",
    "        if dones[i]:\n",
    "            critic_target[i] = rewards[i]\n",
    "        else:\n",
    "            critic_target[i] = rewards[i] + gamma * target_q_values[i]\n",
    "\n",
    "    critic.train_on_batch(states_pov, states_cA, actions, critic_target) \n",
    "   \n",
    "    action_for_grads = actor.predict([states_pov, states_cA])\n",
    "    grads = critic.gradients(states_pov, states_cA, action_for_grads)\n",
    "    actor.train(states_pov, states_cA, np.array(grads).reshape(-1, 9))\n",
    "    actor.transfer_weights()\n",
    "    critic.transfer_weights()\n",
    "    \n",
    "    return buff, actor, critic\n",
    "\n",
    "\n",
    "def train_on_batch(state, action, reward, next_state, done, actor, critic):\n",
    "    \n",
    "    q_values = critic.target_predict([next_state['pov'], next_state['compassAngle'], action])\n",
    "    \n",
    "    critic_target = np.asarray(q_values)\n",
    "    for i in range(q_values.shape[0]):\n",
    "        if done[i]:\n",
    "            critic_target[i] = reward[i]\n",
    "        else:\n",
    "            critic_target[i] = reward[i] + gamma * q_values[i]\n",
    "    \n",
    "    critic.train_on_batch(state['pov'], state['compassAngle'], action, critic_target)\n",
    "        \n",
    "    actions = actor.predict([state['pov'], state['compassAngle']])\n",
    "    #print(actions)\n",
    "    gradients = critic.gradients(state['pov'], state['compassAngle'], actions)\n",
    "    actor.pre_train(state['pov'], state['compassAngle'], action)\n",
    "    \n",
    "    actor.transfer_weights()\n",
    "    critic.transfer_weights()\n",
    "    #print('Done!')\n",
    "    \n",
    "def pretrain2(mission, buff, actor, critic, batch_size = 128):\n",
    "    max_iterations = 1\n",
    "    outerstepsize0 = 0.1\n",
    "    \n",
    "    data = minerl.data.make(mission)\n",
    "        \n",
    "    for iteration in range(1, max_iterations+1):\n",
    "        print('--------------------------------------------------------------')\n",
    "        t1 = time()\n",
    "        print('Starting outer loop...iteration ',iteration, '/',max_iterations)\n",
    "        old_weights = actor.model.get_weights()\n",
    "        #print(old_weights)\n",
    "        print('Starting inner loop....')\n",
    "        for state, action, reward, next_state, done in data.sarsd_iter(num_epochs=1, max_sequence_len=batch_size, sample_no = sample_no):\n",
    "            batch_size = state['pov'].shape[0]\n",
    "            if(state['pov'].shape != (batch_size,64,64,3)):\n",
    "                print('skipping batch....found unexpected array size', state['pov'].shape)\n",
    "            else:\n",
    "                state = observation_wrapper(state, batch_size)\n",
    "                action = map_from_actionset(action, batch_size)\n",
    "                #print(action.shape)\n",
    "                #print('Batch ready!!...Beginning training....')        \n",
    "                train_on_batch(state, action, reward, next_state, done, actor, critic)\n",
    "        print('Done!')\n",
    "        new_weights = actor.model.get_weights()\n",
    "\n",
    "        outerstepsize = outerstepsize0 * (1 - iteration/max_iterations)\n",
    "        print('Updating weights...')        \n",
    "        modified_weights = []\n",
    "        for i in range(len(old_weights)):\n",
    "            value = old_weights[i] + (new_weights[i] - old_weights[i])*outerstepsize\n",
    "            modified_weights.append(value)  \n",
    "        print('Setting new weights to model...')            \n",
    "        actor.model.set_weights(modified_weights)\n",
    "        print('End of OuterLoop....')\n",
    "        print('Time taken:', (time()-t1)/3600, 'hrs')\n",
    "        actor.save('navigatedense')\n",
    "        critic.save('navigatedense')\n",
    "    return buff, actor, critic"
   ]
  },
  {
   "cell_type": "code",
   "execution_count": 4,
   "metadata": {},
   "outputs": [
    {
     "name": "stdout",
     "output_type": "stream",
     "text": [
      "WARNING:tensorflow:From C:\\Mrugank_pc\\Softwares\\Python\\Anaconda3_5.1.0\\lib\\site-packages\\tensorflow\\python\\framework\\op_def_library.py:263: colocate_with (from tensorflow.python.framework.ops) is deprecated and will be removed in a future version.\n",
      "Instructions for updating:\n",
      "Colocations handled automatically by placer.\n",
      "WARNING:tensorflow:From C:\\Mrugank_pc\\Softwares\\Python\\Anaconda3_5.1.0\\lib\\site-packages\\tensorflow\\python\\ops\\math_ops.py:3066: to_int32 (from tensorflow.python.ops.math_ops) is deprecated and will be removed in a future version.\n",
      "Instructions for updating:\n",
      "Use tf.cast instead.\n"
     ]
    }
   ],
   "source": [
    "actor = Actor(state_size, action_size, lr_actor, tau)\n",
    "critic = Critic(state_size, action_size, lr_critic, tau)\n"
   ]
  },
  {
   "cell_type": "code",
   "execution_count": 5,
   "metadata": {},
   "outputs": [],
   "source": [
    "buff = ReplayBuffer(buffer_size)"
   ]
  },
  {
   "cell_type": "code",
   "execution_count": 6,
   "metadata": {},
   "outputs": [],
   "source": [
    "mission = 'MineRLNavigateDense-v0'"
   ]
  },
  {
   "cell_type": "code",
   "execution_count": null,
   "metadata": {},
   "outputs": [],
   "source": [
    "buff, actor, critic = pretrain2(mission, buff, actor, critic, batch_size)\n",
    "\n",
    "        "
   ]
  },
  {
   "cell_type": "code",
   "execution_count": 7,
   "metadata": {},
   "outputs": [],
   "source": [
    " env = gym.make(mission)"
   ]
  },
  {
   "cell_type": "code",
   "execution_count": 8,
   "metadata": {},
   "outputs": [
    {
     "name": "stdout",
     "output_type": "stream",
     "text": [
      "Successfully loaded previously trained weights!\n"
     ]
    }
   ],
   "source": [
    "try:\n",
    "    actor.load_weights(\"navigatedense_actor.h5\")\n",
    "    critic.load_weights(\"navigatedense_critic.h5\")\n",
    "    actor.load_targetweights(\"navigatedense_actortarget.h5\")\n",
    "    critic.load_targetweights(\"navigatedense_critictarget.h5\")\n",
    "    print(\"Successfully loaded previously trained weights!\")\n",
    "except:\n",
    "    print(\"Saved model not found...starting training from scratch\")\n",
    "        "
   ]
  },
  {
   "cell_type": "markdown",
   "metadata": {},
   "source": [
    "# Training"
   ]
  },
  {
   "cell_type": "code",
   "execution_count": 9,
   "metadata": {},
   "outputs": [
    {
     "name": "stdout",
     "output_type": "stream",
     "text": [
      "Episode : 0 Replay Buffer 0\n",
      "episode: 0/1, mean reward: -0.00026065572102864585, e: 0.01\n",
      "Time taken: 7.419208641846975 mins\n",
      "Training completed!!!\n"
     ]
    },
    {
     "data": {
      "text/plain": [
       "[<matplotlib.lines.Line2D at 0x2979d3ec358>]"
      ]
     },
     "execution_count": 9,
     "metadata": {},
     "output_type": "execute_result"
    },
    {
     "data": {
      "image/png": "[encoded data removed]",
      "text/plain": [
       "<Figure size 432x288 with 1 Axes>"
      ]
     },
     "metadata": {
      "needs_background": "light"
     },
     "output_type": "display_data"
    }
   ],
   "source": [
    "train = False\n",
    "track_reward = []\n",
    "max_episodes = 1\n",
    "render = True\n",
    "frames = 1  # DO NOT CHANGE\n",
    "batch_size = 32\n",
    "\n",
    "for episode in range(max_episodes):\n",
    "    t1 = time()\n",
    "    print(\"Episode : \" + str(episode) + \" Replay Buffer \" + str(buff.count()))\n",
    "        \n",
    "    state = env.reset()\n",
    "    state = observation_wrapper(state, frames)\n",
    "    done = False\n",
    "    episode_reward = []\n",
    "        \n",
    "    while not done:\n",
    "        if render:\n",
    "            env.render()\n",
    "        \n",
    "        action_vec = actor.predict([state['pov'],state['compassAngle']])\n",
    "        #print(action_vec)    \n",
    "        if train:\n",
    "            action_vec = add_noise(action_vec[0], epsilon)\n",
    "            #print(action_vec)\n",
    "            epsilon = epsilon*((1+rate)**episode)  \n",
    "        action = map_to_actionset(mission, action_vec[0])\n",
    "        #print(action)    \n",
    "        next_state, reward, done, _ = env.step(action)\n",
    "        next_state = observation_wrapper(next_state, frames)\n",
    "        #done_ = 0 if done else 1\n",
    "        episode_reward.append(reward)\n",
    "        \n",
    "        if train:\n",
    "            buff.add(state, action_vec, reward, next_state, done)\n",
    "            if buff.count() > batch_size:\n",
    "                train_from_memory(mission, buff, actor, critic, batch_size)\n",
    "\n",
    "        state = next_state\n",
    "            \n",
    "            \n",
    "        if done:\n",
    "            track_reward.append(np.sum(episode_reward))\n",
    "            print(\"episode: {}/{}, mean reward: {}, e: {:.2}\"\n",
    "                .format(episode, max_episodes, np.mean(episode_reward), epsilon))\n",
    "            plt.plot(range(len(episode_reward)), episode_reward)    \n",
    "                \n",
    "            break\n",
    "    print('Time taken:', (time()-t1)/60, 'mins')\n",
    "    if train:    \n",
    "        if episode % 5 == 0:\n",
    "            actor.model.save_weights('train_navigatedense_actor.h5', overwrite=True)\n",
    "            actor.target_model.save_weights('train_navigatedense_actortarget.h5', overwrite=True)\n",
    "            critic.model.save_weights('train_navigatedense_critic.h5', overwrite=True)\n",
    "            critic.target_model.save_weights('train_navigatedense_critictarget.h5', overwrite=True)\n",
    "\n",
    "print('Training completed!!!')\n",
    "plt.plot(range(max_episodes), track_reward)"
   ]
  },
  {
   "cell_type": "code",
   "execution_count": 12,
   "metadata": {},
   "outputs": [
    {
     "name": "stdout",
     "output_type": "stream",
     "text": [
      "Failed to delete the temporary minecraft directory.\n"
     ]
    }
   ],
   "source": [
    "env.close()"
   ]
  },
  {
   "cell_type": "code",
   "execution_count": null,
   "metadata": {},
   "outputs": [],
   "source": []
  }
 ],
 "metadata": {
  "kernelspec": {
   "display_name": "Python 3",
   "language": "python",
   "name": "python3"
  },
  "language_info": {
   "codemirror_mode": {
    "name": "ipython",
    "version": 3
   },
   "file_extension": ".py",
   "mimetype": "text/x-python",
   "name": "python",
   "nbconvert_exporter": "python",
   "pygments_lexer": "ipython3",
   "version": "3.6.8"
  }
 },
 "nbformat": 4,
 "nbformat_minor": 2
}
